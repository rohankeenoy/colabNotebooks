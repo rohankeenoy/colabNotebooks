{
  "nbformat": 4,
  "nbformat_minor": 0,
  "metadata": {
    "colab": {
      "provenance": []
    },
    "kernelspec": {
      "name": "python3",
      "display_name": "Python 3"
    },
    "language_info": {
      "name": "python"
    }
  },
  "cells": [
    {
      "cell_type": "code",
      "execution_count": null,
      "metadata": {
        "id": "sJewzVfQSTK1",
        "colab": {
          "base_uri": "https://localhost:8080/"
        },
        "outputId": "57eec084-b30a-4746-e65f-cb58d44c26b6"
      },
      "outputs": [
        {
          "output_type": "stream",
          "name": "stdout",
          "text": [
            "[[0 1 0 1 0 1 0 1]\n",
            " [0 1 0 1 0 1 0 1]\n",
            " [0 1 0 1 0 1 0 1]\n",
            " [0 1 0 1 0 1 0 1]\n",
            " [0 1 0 1 0 1 0 1]\n",
            " [0 1 0 1 0 1 0 1]\n",
            " [0 1 0 1 0 1 0 1]\n",
            " [0 1 0 1 0 1 0 1]]\n"
          ]
        }
      ],
      "source": [
        "\"\"\"Create a 8x8 matrix and fill it with a checkerboard pattern [5 Points]\"\"\"\n",
        "import numpy as np\n",
        "a = np.zeros((8,8))\n",
        "a[::, 1::2]=1\n",
        "print(a.astype(int))"
      ]
    },
    {
      "cell_type": "code",
      "source": [
        "\"\"\"Create a checkerboard 8x8 matrix using the tile function \"\"\"\n",
        "import numpy as np\n",
        "x = np.empty((8, 8))\n",
        "v = np.array([0,1,0,1,0,1,0,1])\n",
        "vv = np.tile(v, (8,1))\n",
        "print(vv)\n"
      ],
      "metadata": {
        "colab": {
          "base_uri": "https://localhost:8080/"
        },
        "id": "a9BlnSOVUddk",
        "outputId": "09f8600e-69ba-43f3-c060-e63fa79fe7da"
      },
      "execution_count": null,
      "outputs": [
        {
          "output_type": "stream",
          "name": "stdout",
          "text": [
            "[[0 1 0 1 0 1 0 1]\n",
            " [0 1 0 1 0 1 0 1]\n",
            " [0 1 0 1 0 1 0 1]\n",
            " [0 1 0 1 0 1 0 1]\n",
            " [0 1 0 1 0 1 0 1]\n",
            " [0 1 0 1 0 1 0 1]\n",
            " [0 1 0 1 0 1 0 1]\n",
            " [0 1 0 1 0 1 0 1]]\n"
          ]
        }
      ]
    },
    {
      "cell_type": "code",
      "source": [
        "\"\"\"(Indexing and Slicing arrays) Create an array containing the values 1–15, reshape it into a 3-\n",
        "by-5 array, then use indexing and slicing techniques to perform each of the following operations:\n",
        "1. Select row 2.\n",
        "2. Select column 5.\n",
        "3. Select rows 0 and 1.\n",
        "4. Select columns 2–4.\n",
        "5. Select the element that is in row 1 and column 4.\n",
        "6. Select all elements from rows 1 and 2 that are in columns 0, 2 and 4.\n",
        "\"\"\"\n",
        "import numpy as np\n",
        "a= np.arange(1,16).reshape(3,5)\n",
        "print(a,\"\\n\\n Select Row 2: \\n\")\n",
        "print(a[1::2],\"\\n\\n Select column 4: \\n\")\n",
        "print(a[:, 3].reshape(3,1),\"\\n\\n Select rows 0-1:\\n\")\n",
        "print(a[0:2,:], \"\\n\\n Select Columns 2-4  \\n\")\n",
        "print(a[:,1:4], \"\\n\\n Select the element that is in row 1 and column 4: \\n\")\n",
        "print(a[0,3],\"\\n\\n select all elements from rows 1 and 2 that are in columns 0,2,4\")\n",
        "print(a[1:3,[0,2,4]])"
      ],
      "metadata": {
        "colab": {
          "base_uri": "https://localhost:8080/"
        },
        "id": "uKdUzr8CZrys",
        "outputId": "4a525f8d-ca97-4128-b34d-fb3d82fbfb84"
      },
      "execution_count": null,
      "outputs": [
        {
          "output_type": "stream",
          "name": "stdout",
          "text": [
            "[[ 1  2  3  4  5]\n",
            " [ 6  7  8  9 10]\n",
            " [11 12 13 14 15]] \n",
            "\n",
            " Select Row 2: \n",
            "\n",
            "[[ 6  7  8  9 10]] \n",
            "\n",
            " Select column 4: \n",
            "\n",
            "[[ 4]\n",
            " [ 9]\n",
            " [14]] \n",
            "\n",
            " Select rows 0-1:\n",
            "\n",
            "[[ 1  2  3  4  5]\n",
            " [ 6  7  8  9 10]] \n",
            "\n",
            " Select Columns 2-4  \n",
            "\n",
            "[[ 2  3  4]\n",
            " [ 7  8  9]\n",
            " [12 13 14]] \n",
            "\n",
            " Select the element that is in row 1 and column 4: \n",
            "\n",
            "4 \n",
            "\n",
            " select all elements from rows 1 and 2 that are in columns 0,2,4\n",
            "[[ 6  8 10]\n",
            " [11 13 15]]\n"
          ]
        }
      ]
    },
    {
      "cell_type": "code",
      "source": [
        "\"\"\"array1 = np.array([[0, 1], [2, 3]])\n",
        "array2 = np.array([[4, 5], [6, 7]])\n",
        "1. Use vertical stacking to create the 4-by-2 array named array3 with array1 stacked on top of array2.\n",
        "2. Use horizontal stacking to create the 2-by-4 array named array4 with array2 to the right of array1.\n",
        "3. Use vertical stacking with two copies of array4 to create a 4-by-4 array5.\n",
        "4. Use horizontal stacking with two copies of array3 to create a 4-by-4 array6.\n",
        "\"\"\"\n",
        "import numpy as np\n",
        "array1 = np.array([[0, 1], [2, 3]])\n",
        "array2 = np.array([[4, 5], [6, 7]])\n",
        "print(\"Array1 \\n\",array1)\n",
        "print(\"Array2 \\n\",array2)\n",
        "print(\" \\nUse vertical stacking to create the 4-by-2 array named array3 with array1 stacked on top of array2\\n\")\n",
        "array3 = np.vstack((array1,array2))\n",
        "print(\"array 3\\n\", array3)\n",
        "print(\"\\n Use horizontal stacking to create the 2-by-4 array named array4 with array2 to the right of array1.\\n\")\n",
        "array4=np.hstack((array1,array2))\n",
        "print(\"array 4\\n\", array4)\n",
        "print(\"\\n Use vertical stacking with two copies of array4 to create a 4-by-4 array5\\n\")\n",
        "array5 = np.tile(array4,(2,1))\n",
        "print(\"array 5 \\n\", array5)\n",
        "print(\"\\nUse horizontal stacking with two copies of array3 to create a 4-by-4 array6.\\n\")\n",
        "array6 = np.tile(array3,(1,2))\n",
        "print(\"array 6\\n\",array6)\n",
        "#The last two arrays are naturally 4x4 due to the nature of they are stacked, so I decided not to use a reshape opperation"
      ],
      "metadata": {
        "colab": {
          "base_uri": "https://localhost:8080/"
        },
        "id": "STqhChdJnGzu",
        "outputId": "faed14ef-f76f-427b-fdcd-82cf0c16e43e"
      },
      "execution_count": null,
      "outputs": [
        {
          "output_type": "stream",
          "name": "stdout",
          "text": [
            "Array1 \n",
            " [[0 1]\n",
            " [2 3]]\n",
            "Array2 \n",
            " [[4 5]\n",
            " [6 7]]\n",
            " \n",
            "Use vertical stacking to create the 4-by-2 array named array3 with array1 stacked on top of array2\n",
            "\n",
            "array 3\n",
            " [[0 1]\n",
            " [2 3]\n",
            " [4 5]\n",
            " [6 7]]\n",
            "\n",
            " Use horizontal stacking to create the 2-by-4 array named array4 with array2 to the right of array1.\n",
            "\n",
            "array 4\n",
            " [[0 1 4 5]\n",
            " [2 3 6 7]]\n",
            "\n",
            " Use vertical stacking with two copies of array4 to create a 4-by-4 array5\n",
            "\n",
            "array 5 \n",
            " [[0 1 4 5]\n",
            " [2 3 6 7]\n",
            " [0 1 4 5]\n",
            " [2 3 6 7]]\n",
            "\n",
            "Use horizontal stacking with two copies of array3 to create a 4-by-4 array6.\n",
            "\n",
            "array 6\n",
            " [[0 1 0 1]\n",
            " [2 3 2 3]\n",
            " [4 5 4 5]\n",
            " [6 7 6 7]]\n"
          ]
        }
      ]
    }
  ]
}